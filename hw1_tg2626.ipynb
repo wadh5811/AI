{
  "nbformat": 4,
  "nbformat_minor": 0,
  "metadata": {
    "colab": {
      "name": "hw1_tg2626.ipynb",
      "provenance": [],
      "collapsed_sections": [],
      "include_colab_link": true
    },
    "kernelspec": {
      "name": "python3",
      "display_name": "Python 3"
    },
    "language_info": {
      "name": "python"
    }
  },
  "cells": [
    {
      "cell_type": "markdown",
      "metadata": {
        "id": "view-in-github",
        "colab_type": "text"
      },
      "source": [
        "<a href=\"https://colab.research.google.com/github/wadh5811/AI/blob/main/hw1_tg2626.ipynb\" target=\"_parent\"><img src=\"https://colab.research.google.com/assets/colab-badge.svg\" alt=\"Open In Colab\"/></a>"
      ]
    },
    {
      "cell_type": "code",
      "source": [
        "!apt install -qq enchant"
      ],
      "metadata": {
        "id": "cd3PpIIk4D5k"
      },
      "execution_count": null,
      "outputs": []
    },
    {
      "cell_type": "code",
      "source": [
        "!pip install pyenchant"
      ],
      "metadata": {
        "id": "DZZsMeiv3_Gf",
        "colab": {
          "base_uri": "https://localhost:8080/"
        },
        "outputId": "97fe8c4f-f363-4af3-a2a6-5cd114b09131"
      },
      "execution_count": 23,
      "outputs": [
        {
          "output_type": "stream",
          "name": "stdout",
          "text": [
            "Requirement already satisfied: pyenchant in /usr/local/lib/python3.7/dist-packages (3.2.2)\n"
          ]
        }
      ]
    },
    {
      "cell_type": "code",
      "source": [
        "import enchant, string\n",
        "import matplotlib.pyplot as plt\n",
        "from heapq import heappush, heappop, heapify\n",
        "\n",
        "d = enchant.Dict(\"en_US\")\n",
        "\n",
        "def successors(state):\n",
        "    \"\"\"\n",
        "    Given a word, find all possible English word results from changing one letter.\n",
        "    Return a list of (action, word) pairs, where action is the index of the\n",
        "    changed letter.\n",
        "    \"\"\"\n",
        "    \n",
        "    child_states = []\n",
        "    for i in range(len(state)):\n",
        "        new = [state[:i]+x+state[i+1:] for x in string.ascii_lowercase]\n",
        "        words = [x for x in new if d.check(x) and x != state]\n",
        "        child_states = child_states + [(i, word) for word in words]\n",
        "    return child_states"
      ],
      "metadata": {
        "id": "QQ7EfY5ZqiHx"
      },
      "execution_count": 24,
      "outputs": []
    },
    {
      "cell_type": "code",
      "source": [
        "\"\"\"\n",
        "5.1: Best-first search\n",
        "\"\"\"\n",
        "def best_first_search(start, goal, f):\n",
        "    \"\"\"\n",
        "    Inputs: Start state, goal state, priority function\n",
        "    Returns node containing goal or None if no goal found, total nodes expanded,\n",
        "    frontier size per iteration\n",
        "    \"\"\"\n",
        "    node = {'state':start, 'parent':None, 'cost':0}\n",
        "    frontier = []\n",
        "    reached = {}\n",
        "    nodes_expanded = 0\n",
        "    frontier_size = [len(frontier)]\n",
        "\n",
        "    # COMPLETE THIS FUNCTION\n",
        "    #minheap\n",
        "    heapify(frontier)\n",
        "    heappush(frontier,(0, node['state'],node))\n",
        "    reached[start] = 0\n",
        "    while frontier!=None:\n",
        "        frontier_size.append(len(frontier))\n",
        "        node = heappop(frontier)\n",
        "        node = node[2]\n",
        "        if goal == node['state']:\n",
        "            return node, nodes_expanded, frontier_size\n",
        "        b = node['state']\n",
        "        nodes_expanded+=1\n",
        "        for child in successors(b):\n",
        "            s = child[1]\n",
        "            if s not in reached or node['cost']+1 < reached[s]:\n",
        "                a = {'state':s, 'parent':node, 'cost':node['cost']+1}\n",
        "                reached[s] = a['cost']\n",
        "                heappush(frontier,(f(a,goal),s,a))\n",
        "\n",
        "    return None, nodes_expanded, frontier_size\n"
      ],
      "metadata": {
        "id": "EJ_aEMV9qsLm"
      },
      "execution_count": 25,
      "outputs": []
    },
    {
      "cell_type": "code",
      "source": [
        "\"\"\"\n",
        "5.2: Priority functions\n",
        "\"\"\"\n",
        "def f_dfs(node, goal=None):\n",
        "    # IMPLEMENT THIS FUNCTION\n",
        "    return -node['cost']\n",
        "\n",
        "def f_bfs(node, goal=None):\n",
        "    # IMPLEMENT THIS FUNCTION\n",
        "    return node['cost']\n",
        "\n",
        "def f_ucs(node, goal=None):\n",
        "    # IMPLEMENT THIS FUNCTION\n",
        "    return node['cost']\n",
        "\n",
        "def hamming_distance(string1, string2): \n",
        "    distance = 0\n",
        "    L = len(string1)\n",
        "    for i in range(L):\n",
        "        if string1[i] != string2[i]:\n",
        "            distance += 1\n",
        "    return distance\n",
        "    # \n",
        "def f_astar(node, goal):\n",
        "    return hamming_distance(node['state'],goal) + node['cost']\n"
      ],
      "metadata": {
        "id": "1AdACqriqwjU"
      },
      "execution_count": 26,
      "outputs": []
    },
    {
      "cell_type": "code",
      "source": [
        "def sequence(node):\n",
        "    \"\"\"\n",
        "    Given a node, follow its parents back to the start state.\n",
        "    Return sequence of words from start to goal.\n",
        "    \"\"\"\n",
        "    words = [node['state']]\n",
        "    while node['parent'] is not None:\n",
        "        node = node['parent']\n",
        "        words.insert(0, node['state'])\n",
        "    return words"
      ],
      "metadata": {
        "id": "4WdgNfmqq0Cb"
      },
      "execution_count": 27,
      "outputs": []
    },
    {
      "cell_type": "code",
      "source": [
        "if __name__ == '__main__':\n",
        "\n",
        "    #first puzzle\n",
        "    start = 'fat'\n",
        "    goal = 'cop'\n",
        "    \n",
        "    frontier_sizes = []\n",
        "    print('start = fat and goal = cop')\n",
        "    print('\\n'+'dfs')\n",
        "    solution = best_first_search(start, goal, f_dfs)\n",
        "    print(sequence(solution[0]))\n",
        "    print('nodes expanded: '+ str(solution[1]))\n",
        "    print('length of solution:' + str(solution[0]['cost']))\n",
        "\n",
        "    print('\\n'+'bfs')\n",
        "    solution = best_first_search(start, goal, f_bfs)\n",
        "    print(sequence(solution[0]))\n",
        "    print('nodes expanded: '+ str(solution[1]))\n",
        "    print('length of solution:' + str(solution[0]['cost']))\n",
        "    plt.plot(list(range(1, len(solution[2])+1)),solution[2])\n",
        "    \n",
        "    print('\\n'+'ucs')\n",
        "    solution = best_first_search(start, goal, f_ucs)\n",
        "    print(sequence(solution[0]))\n",
        "    print('nodes expanded: '+ str(solution[1]))\n",
        "    print('length of solution:' + str(solution[0]['cost']))\n",
        "    plt.plot(list(range(1, len(solution[2])+1)),solution[2])\n",
        "\n",
        "    print('\\n'+'astar')\n",
        "    solution = best_first_search(start, goal, f_astar)\n",
        "    print(sequence(solution[0]))\n",
        "    print('nodes expanded: '+ str(solution[1]))\n",
        "    print('length of solution:' + str(solution[0]['cost']))\n",
        "    plt.plot(list(range(1, len(solution[2])+1)),solution[2])\n",
        "   \n",
        "    print('\\n') \n",
        "    plt.title(\"Algorithm Analysis Puzzle #1\")\n",
        "    plt.xlabel(\"Iterations\")\n",
        "    plt.ylabel(\"Frontier Sizes\")\n",
        "    plt.show()\n",
        "\n",
        "    #second puzzle\n",
        "    start = 'cold'\n",
        "    goal = 'warm'\n",
        "\n",
        "    print('\\n')\n",
        "    print('start = cold and goal = warm')\n",
        "    frontier_sizes = []\n",
        "\n",
        "    print('\\n'+'bfs')\n",
        "    solution = best_first_search(start, goal, f_bfs)\n",
        "    print(sequence(solution[0]))\n",
        "    print('nodes expanded: '+ str(solution[1]))\n",
        "    print('length of solution: ' + str(solution[0]['cost']))\n",
        "    plt.plot(list(range(1, len(solution[2])+1)),solution[2])\n",
        "    \n",
        "    print('\\n'+'ucs')\n",
        "    solution = best_first_search(start, goal, f_ucs)\n",
        "    print(sequence(solution[0]))\n",
        "    print('nodes expanded: '+ str(solution[1]))\n",
        "    print('length of solution: ' + str(solution[0]['cost']))\n",
        "    plt.plot(list(range(1, len(solution[2])+1)),solution[2])\n",
        "\n",
        "    print('\\n'+'astar')\n",
        "    solution = best_first_search(start, goal, f_astar)\n",
        "    print(sequence(solution[0]))\n",
        "    print('nodes expanded: '+ str(solution[1]))\n",
        "    print('length of solution: ' + str(solution[0]['cost']))\n",
        "    plt.plot(list(range(1, len(solution[2])+1)),solution[2])\n",
        "\n",
        "    print('\\n') \n",
        "    plt.title(\"Algorithm Analysis Puzzle #2\")\n",
        "    plt.xlabel(\"Iterations\")\n",
        "    plt.ylabel(\"Frontier Sizes\")\n",
        "    plt.show()\n",
        "\n",
        "    #third puzzle\n",
        "    start = 'small'\n",
        "    goal = 'large'\n",
        "\n",
        "    print('\\n')\n",
        "    print('start = small and goal = large')\n",
        "    frontier_sizes = []\n",
        "\n",
        "    print('\\n'+'bfs')\n",
        "    solution = best_first_search(start, goal, f_bfs)\n",
        "    print(sequence(solution[0]))\n",
        "    print('nodes expanded: '+ str(solution[1]))\n",
        "    print('length of solution: ' + str(solution[0]['cost']))\n",
        "    plt.plot(list(range(1, len(solution[2])+1)),solution[2])\n",
        "\n",
        "    print('\\n'+'ucs')\n",
        "    solution = best_first_search(start, goal, f_ucs)\n",
        "    print(sequence(solution[0]))\n",
        "    print('nodes expanded: '+ str(solution[1]))\n",
        "    print('length of solution: ' + str(solution[0]['cost']))\n",
        "    plt.plot(list(range(1, len(solution[2])+1)),solution[2])\n",
        "\n",
        "    print('\\n'+'astar')\n",
        "    solution = best_first_search(start, goal, f_astar)\n",
        "    print(sequence(solution[0]))\n",
        "    print('nodes expanded: '+ str(solution[1]))\n",
        "    print('length of solution: ' + str(solution[0]['cost']))\n",
        "    plt.plot(list(range(1, len(solution[2])+1)),solution[2])\n",
        "   \n",
        "    print('\\n') \n",
        "    plt.title(\"Algorithm Analysis Puzzle #3\")\n",
        "    plt.xlabel(\"Iterations\")\n",
        "    plt.ylabel(\"Frontier Sizes\")\n",
        "    plt.show()"
      ],
      "metadata": {
        "colab": {
          "base_uri": "https://localhost:8080/",
          "height": 1000
        },
        "id": "80iA3NYhq2F_",
        "outputId": "3f883e07-5d88-41f8-dc46-adb10eba2059"
      },
      "execution_count": 28,
      "outputs": [
        {
          "output_type": "stream",
          "name": "stdout",
          "text": [
            "start = fat and goal = cop\n",
            "\n",
            "dfs\n",
            "['fat', 'bat', 'baa', 'boa', 'bob', 'bib', 'bid', 'aid', 'add', 'ado', 'ago', 'age', 'ace', 'act', 'aft', 'oft', 'off', 'eff', 'elf', 'elk', 'eek', 'eel', 'gel', 'gal', 'cal', 'cab', 'cub', 'cud', 'cod', 'cop']\n",
            "nodes expanded: 29554\n",
            "length of solution:29\n",
            "\n",
            "bfs\n",
            "['fat', 'cat', 'cap', 'cop']\n",
            "nodes expanded: 254\n",
            "length of solution:3\n",
            "\n",
            "ucs\n",
            "['fat', 'cat', 'cap', 'cop']\n",
            "nodes expanded: 254\n",
            "length of solution:3\n",
            "\n",
            "astar\n",
            "['fat', 'cat', 'cap', 'cop']\n",
            "nodes expanded: 3\n",
            "length of solution:3\n",
            "\n",
            "\n"
          ]
        },
        {
          "output_type": "display_data",
          "data": {
            "image/png": "[encoded data removed]",
            "text/plain": [
              "<Figure size 432x288 with 1 Axes>"
            ]
          },
          "metadata": {
            "needs_background": "light"
          }
        },
        {
          "output_type": "stream",
          "name": "stdout",
          "text": [
            "\n",
            "\n",
            "start = cold and goal = warm\n",
            "\n",
            "bfs\n",
            "['cold', 'cord', 'card', 'ward', 'warm']\n",
            "nodes expanded: 1159\n",
            "length of solution: 4\n",
            "\n",
            "ucs\n",
            "['cold', 'cord', 'card', 'ward', 'warm']\n",
            "nodes expanded: 1159\n",
            "length of solution: 4\n",
            "\n",
            "astar\n",
            "['cold', 'cord', 'card', 'ward', 'warm']\n",
            "nodes expanded: 5\n",
            "length of solution: 4\n",
            "\n",
            "\n"
          ]
        },
        {
          "output_type": "display_data",
          "data": {
            "image/png": "[encoded data removed]",
            "text/plain": [
              "<Figure size 432x288 with 1 Axes>"
            ]
          },
          "metadata": {
            "needs_background": "light"
          }
        },
        {
          "output_type": "stream",
          "name": "stdout",
          "text": [
            "\n",
            "\n",
            "start = small and goal = large\n",
            "\n",
            "bfs\n",
            "['small', 'stall', 'stale', 'state', 'stats', 'seats', 'teats', 'tents', 'tints', 'tings', 'tangs', 'tango', 'mango', 'mange', 'marge', 'large']\n",
            "nodes expanded: 3832\n",
            "length of solution: 15\n",
            "\n",
            "ucs\n",
            "['small', 'stall', 'stale', 'state', 'stats', 'seats', 'teats', 'tents', 'tints', 'tings', 'tangs', 'tango', 'mango', 'mange', 'marge', 'large']\n",
            "nodes expanded: 3832\n",
            "length of solution: 15\n",
            "\n",
            "astar\n",
            "['small', 'shall', 'shale', 'shade', 'shads', 'sheds', 'seeds', 'sends', 'sands', 'sandy', 'randy', 'rangy', 'range', 'mange', 'marge', 'large']\n",
            "nodes expanded: 2553\n",
            "length of solution: 15\n",
            "\n",
            "\n"
          ]
        },
        {
          "output_type": "display_data",
          "data": {
            "image/png": "[encoded data removed]",
            "text/plain": [
              "<Figure size 432x288 with 1 Axes>"
            ]
          },
          "metadata": {
            "needs_background": "light"
          }
        }
      ]
    }
  ]
}